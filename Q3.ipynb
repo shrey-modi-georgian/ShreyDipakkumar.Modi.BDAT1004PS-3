{
 "cells": [
  {
   "cell_type": "code",
   "execution_count": 1,
   "id": "b44971da",
   "metadata": {},
   "outputs": [
    {
     "name": "stdout",
     "output_type": "stream",
     "text": [
      "0         1\n",
      "1         4\n",
      "2         1\n",
      "3         1\n",
      "4         4\n",
      "      ...  \n",
      "95    27477\n",
      "96    15986\n",
      "97    28162\n",
      "98    19948\n",
      "99    15214\n",
      "Length: 300, dtype: int32\n",
      "Going to only until 99: True\n"
     ]
    }
   ],
   "source": [
    "import pandas as pd\n",
    "import numpy as np\n",
    "\n",
    "# 3 different Series\n",
    "series1 = pd.Series(np.random.randint(1, 5, size=100))\n",
    "series2 = pd.Series(np.random.randint(1, 4, size=100))\n",
    "series3 = pd.Series(np.random.randint(10000, 30001, size=100))\n",
    "\n",
    "# Create a DataFrame by concating the Series by column\n",
    "df = pd.concat([series1, series2, series3], axis=1)\n",
    "\n",
    "# Change the name of the columns\n",
    "df.columns = ['bedrs', 'bathrs', 'price_sqr_meter']\n",
    "\n",
    "# Created a one-column DataFrame with the values of the 3 Series and assigned it to 'bigcolumn'\n",
    "bigcolumn = pd.concat([series1, series2, series3])\n",
    "\n",
    "# To check if it goes only until index 99\n",
    "print(bigcolumn)\n",
    "print(\"Going to only until 99:\", bigcolumn.index.max() == 99)"
   ]
  },
  {
   "cell_type": "code",
   "execution_count": 2,
   "id": "0faecc8f",
   "metadata": {},
   "outputs": [
    {
     "name": "stdout",
     "output_type": "stream",
     "text": [
      "\n",
      "DataFrame 'bigcolumn' after reindexing:\n",
      "0          1\n",
      "1          4\n",
      "2          1\n",
      "3          1\n",
      "4          4\n",
      "       ...  \n",
      "295    27477\n",
      "296    15986\n",
      "297    28162\n",
      "298    19948\n",
      "299    15214\n",
      "Length: 300, dtype: int32\n"
     ]
    }
   ],
   "source": [
    "# Reindexing the df so it goes from 0 to 299\n",
    "bigcolumn.reset_index(drop=True, inplace=True)\n",
    "print(\"\\nDataFrame 'bigcolumn' after reindexing:\")\n",
    "print(bigcolumn)"
   ]
  }
 ],
 "metadata": {
  "kernelspec": {
   "display_name": "Python 3 (ipykernel)",
   "language": "python",
   "name": "python3"
  },
  "language_info": {
   "codemirror_mode": {
    "name": "ipython",
    "version": 3
   },
   "file_extension": ".py",
   "mimetype": "text/x-python",
   "name": "python",
   "nbconvert_exporter": "python",
   "pygments_lexer": "ipython3",
   "version": "3.11.5"
  }
 },
 "nbformat": 4,
 "nbformat_minor": 5
}
